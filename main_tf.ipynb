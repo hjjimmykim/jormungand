{
 "cells": [
  {
   "cell_type": "markdown",
   "metadata": {},
   "source": [
    "# Import libraries"
   ]
  },
  {
   "cell_type": "code",
   "execution_count": 11,
   "metadata": {},
   "outputs": [
    {
     "name": "stdout",
     "output_type": "stream",
     "text": [
      "The autoreload extension is already loaded. To reload it, use:\n",
      "  %reload_ext autoreload\n"
     ]
    }
   ],
   "source": [
    "# Reload modules\n",
    "%load_ext autoreload\n",
    "%autoreload 2\n",
    "# Inline plots\n",
    "%matplotlib inline\n",
    "\n",
    "# Standard\n",
    "import numpy as np\n",
    "import matplotlib.pyplot as plt\n",
    "import time as time\n",
    "from copy import deepcopy\n",
    "\n",
    "# tf\n",
    "import tensorflow as tf\n",
    "from tensorflow.examples.tutorials.mnist import input_data\n",
    "\n",
    "# Mine\n",
    "from utility import display_image, permutate # Utilities\n",
    "from model import Net   # Model definition\n",
    "from train import train # Training code"
   ]
  },
  {
   "cell_type": "markdown",
   "metadata": {},
   "source": [
    "# Set parameters"
   ]
  },
  {
   "cell_type": "code",
   "execution_count": 12,
   "metadata": {},
   "outputs": [],
   "source": [
    "# Set random seed\n",
    "num_seed = 1\n",
    "tf.set_random_seed(num_seed)\n",
    "\n",
    "# Training\n",
    "N_task = 3       # Number of tasks\n",
    "N_it = 800       # Number of iterations\n",
    "batch_size = 100 # Number of samples in each minibatch\n",
    "\n",
    "# Network\n",
    "hidden_size = 50       # Number of hidden layer neurons\n",
    "\n",
    "# Regularization and Fisher\n",
    "lambda_L2 = 0.025        # Regularization parameter for L2\n",
    "lambda_EWC = 15         # Regularization parameter for EWC\n",
    "sample_size_Fish = 200 # Number of samples to use to estimate Fisher Info.\n",
    "\n",
    "# Miscellaneous\n",
    "ep_rec = 20            # Record test accuracy every ep_rec iterations\n",
    "ep_time = int(N_it/1) # Display time every ep_time iterations\n",
    "save_plots = False"
   ]
  },
  {
   "cell_type": "markdown",
   "metadata": {},
   "source": [
    "# Load data"
   ]
  },
  {
   "cell_type": "code",
   "execution_count": 13,
   "metadata": {
    "scrolled": true
   },
   "outputs": [
    {
     "name": "stdout",
     "output_type": "stream",
     "text": [
      "Extracting MNIST_data/train-images-idx3-ubyte.gz\n",
      "Extracting MNIST_data/train-labels-idx1-ubyte.gz\n",
      "Extracting MNIST_data/t10k-images-idx3-ubyte.gz\n",
      "Extracting MNIST_data/t10k-labels-idx1-ubyte.gz\n"
     ]
    }
   ],
   "source": [
    "# Extract dataset\n",
    "dataset = input_data.read_data_sets('MNIST_data', one_hot=True)"
   ]
  },
  {
   "cell_type": "markdown",
   "metadata": {},
   "source": [
    "# Create permutated datasets"
   ]
  },
  {
   "cell_type": "code",
   "execution_count": 14,
   "metadata": {},
   "outputs": [],
   "source": [
    "datasets = [dataset] # List of datasets\n",
    "\n",
    "# Append permuted datasets\n",
    "for i in range(N_task-1):\n",
    "    datasets.append(permutate(dataset))"
   ]
  },
  {
   "cell_type": "markdown",
   "metadata": {},
   "source": [
    "# Plot sample images"
   ]
  },
  {
   "cell_type": "code",
   "execution_count": 15,
   "metadata": {},
   "outputs": [
    {
     "name": "stdout",
     "output_type": "stream",
     "text": [
      "label = 0\n"
     ]
    },
    {
     "data": {
      "image/png": "[encoded data removed]",
      "text/plain": [
       "<matplotlib.figure.Figure at 0x7f276958d9b0>"
      ]
     },
     "metadata": {},
     "output_type": "display_data"
    }
   ],
   "source": [
    "sample_index = 10      # Sample image to display\n",
    "# Display label\n",
    "label = datasets[0].train.labels[sample_index]\n",
    "label = np.nonzero(label)[0][0]\n",
    "print('label = ' + str(label))\n",
    "\n",
    "# Display images\n",
    "plt.figure()\n",
    "for i in range(N_task):\n",
    "    image = datasets[i].train.images[sample_index]\n",
    "\n",
    "    plt.subplot(1,N_task,1+i)\n",
    "    display_image(image)"
   ]
  },
  {
   "cell_type": "markdown",
   "metadata": {},
   "source": [
    "# Create models"
   ]
  },
  {
   "cell_type": "code",
   "execution_count": 16,
   "metadata": {},
   "outputs": [],
   "source": [
    "sess = tf.InteractiveSession() # Initialize session\n",
    "# input and output placeholders\n",
    "input_dim = datasets[0].train.images.shape[1]\n",
    "output_dim = datasets[0].train.labels.shape[1]\n",
    "inputs = tf.placeholder(tf.float32, shape=[None,input_dim])\n",
    "outputs = tf.placeholder(tf.float32, shape=[None,output_dim])\n",
    "\n",
    "# Instantiate models\n",
    "tf.set_random_seed(num_seed)\n",
    "model = Net(inputs,outputs,hidden_dim=50)\n",
    "tf.set_random_seed(num_seed)\n",
    "model_L2 = Net(inputs,outputs,hidden_dim=50)\n",
    "tf.set_random_seed(num_seed)\n",
    "model_EWC = Net(inputs,outputs,hidden_dim=50)\n",
    "\n",
    "# Initialize variables\n",
    "sess.run(tf.global_variables_initializer())"
   ]
  },
  {
   "cell_type": "markdown",
   "metadata": {},
   "source": [
    "# Train"
   ]
  },
  {
   "cell_type": "code",
   "execution_count": 17,
   "metadata": {
    "scrolled": true
   },
   "outputs": [
    {
     "name": "stdout",
     "output_type": "stream",
     "text": [
      "------------------------------------------------------------\n",
      "Task 0\n",
      "------------------------------------------------------------\n",
      "Vanilla training runtime: 3.4033572673797607 s\n",
      "L2 training runtime: 3.3868651390075684 s\n",
      "EWC training runtime: 2.987565517425537 s\n",
      "Fisher computation runtime: 83.27674126625061 s\n",
      "Total runtime for task 0: 98.98299860954285 s\n",
      "------------------------------------------------------------\n",
      "Task 1\n",
      "------------------------------------------------------------\n",
      "Vanilla training runtime: 3.0046582221984863 s\n",
      "L2 training runtime: 2.9322166442871094 s\n",
      "EWC training runtime: 2.950336456298828 s\n",
      "Fisher computation runtime: 94.42500686645508 s\n",
      "Total runtime for task 1: 106.89854645729065 s\n",
      "------------------------------------------------------------\n",
      "Task 2\n",
      "------------------------------------------------------------\n",
      "Vanilla training runtime: 3.0993223190307617 s\n",
      "L2 training runtime: 3.12058424949646 s\n",
      "EWC training runtime: 3.227783203125 s\n",
      "Fisher computation runtime: 113.04575395584106 s\n",
      "Total runtime for task 2: 126.69691896438599 s\n",
      "------------------------------------------------------------\n",
      "Total runtime: 332.5786461830139 s\n"
     ]
    }
   ],
   "source": [
    "# Initialize test accuracy lists\n",
    "test_acc_lists = []\n",
    "test_acc_lists_L2 = []\n",
    "test_acc_lists_EWC = []\n",
    "for i in range(N_task):\n",
    "    test_acc_lists.append(np.zeros([0]))\n",
    "    test_acc_lists_L2.append(np.zeros([0]))\n",
    "    test_acc_lists_EWC.append(np.zeros([0]))\n",
    "\n",
    "time_start = time.time()\n",
    "time_p1 = time.time()\n",
    "break_signal = False\n",
    "print('------------------------------------------------------------')\n",
    "for i in range(N_task):\n",
    "\n",
    "    print('Task ' + str(i))\n",
    "    print('------------------------------------------------------------')\n",
    "    \n",
    "    #if i==4:\n",
    "    #    print('blahblah')\n",
    "    #    break;\n",
    "        \n",
    "    # Vanilla\n",
    "    test_acc_list = train(sess,model,datasets[i],datasets,inputs,outputs,N_it,batch_size,0,0,ep_rec,ep_time)\n",
    "    # L2\n",
    "    test_acc_list_L2 = train(sess,model_L2,datasets[i],datasets,inputs,outputs,N_it,batch_size,1,lambda_L2,ep_rec,ep_time)\n",
    "    # EWC\n",
    "    test_acc_list_EWC = train(sess,model_EWC,datasets[i],datasets,inputs,outputs,N_it,batch_size,2,lambda_EWC,ep_rec,ep_time)\n",
    "    \n",
    "    for var in tf.trainable_variables():\n",
    "        blah = var.eval().sum()\n",
    "        if blah != blah:\n",
    "            print('nan parameters')\n",
    "            break_signal=True\n",
    "    if break_signal:\n",
    "        print('Error-----------------------------------------------------')\n",
    "        print(model_EWC.Fisher)\n",
    "        break;\n",
    "    \n",
    "    # Save parameters\n",
    "    model_L2.save_parameters()\n",
    "    model_EWC.save_parameters()\n",
    "    \n",
    "\n",
    "    \n",
    "    time_F1 = time.time()\n",
    "    # Compute Fisher Info.\n",
    "    model_EWC.compute_Fisher(datasets[i].validation.images,sess,sample_size_Fish)\n",
    "    time_F2 = time.time()\n",
    "    print('Fisher computation runtime: ' + str(time_F2-time_F1) + ' s')\n",
    "    \n",
    "    \n",
    "    \n",
    "    for F in model_EWC.Fisher:\n",
    "        blah = F.sum()\n",
    "        if blah != blah:\n",
    "            print('nan fisher')\n",
    "            break_signal = True\n",
    "    \n",
    "    \n",
    "    # Record test accuracies\n",
    "    for j in range(N_task):\n",
    "        test_acc_lists[j] = np.hstack([test_acc_lists[j],test_acc_list[j]])\n",
    "        test_acc_lists_L2[j] = np.hstack([test_acc_lists_L2[j],test_acc_list_L2[j]])\n",
    "        test_acc_lists_EWC[j] = np.hstack([test_acc_lists_EWC[j],test_acc_list_EWC[j]])\n",
    "    \n",
    "    time_p2 = time.time()\n",
    "    print('Total runtime for task ' + str(i) + ': ' + str(time_p2-time_p1) + ' s')\n",
    "    time_p1 = time_p2\n",
    "    \n",
    "    print('------------------------------------------------------------')\n",
    "time_finish = time.time()  \n",
    "print('Total runtime: ' + str(time_finish-time_start) + ' s')\n"
   ]
  },
  {
   "cell_type": "markdown",
   "metadata": {},
   "source": [
    "# Plot"
   ]
  },
  {
   "cell_type": "code",
   "execution_count": 18,
   "metadata": {},
   "outputs": [
    {
     "data": {
      "image/png": "[encoded data removed]",
      "text/plain": [
       "<matplotlib.figure.Figure at 0x7f27665a26a0>"
      ]
     },
     "metadata": {},
     "output_type": "display_data"
    }
   ],
   "source": [
    "plt.figure()\n",
    "\n",
    "plt.subplot(1,3,1)\n",
    "plt.title('Vanilla')\n",
    "plt.subplot(1,3,2)\n",
    "plt.title('L2')\n",
    "plt.subplot(1,3,3)\n",
    "plt.title('EWC')\n",
    "for i in range(N_task):\n",
    "    plt.subplot(1,3,1)\n",
    "    plt.plot(test_acc_lists[i],label='Task ' + str(i))\n",
    "    plt.subplot(1,3,2)\n",
    "    plt.plot(test_acc_lists_L2[i],label='Task ' + str(i))\n",
    "    plt.subplot(1,3,3)\n",
    "    plt.plot(test_acc_lists_EWC[i],label='Task ' + str(i))\n",
    "if save_plots:\n",
    "    plt.savefig('lr=0.01_N_task='+str(N_task)+'_lamb_L2='+str(lambda_L2)+'_lamb_EWC='+str(lambda_EWC)+'_seed='+str(num_seed)+'.png')\n",
    "plt.show()"
   ]
  },
  {
   "cell_type": "code",
   "execution_count": 19,
   "metadata": {
    "scrolled": true
   },
   "outputs": [
    {
     "data": {
      "image/png": "[encoded data removed]",
      "text/plain": [
       "<matplotlib.figure.Figure at 0x7f26846c97b8>"
      ]
     },
     "metadata": {},
     "output_type": "display_data"
    }
   ],
   "source": [
    "# Task-averaged accuracy (only on trained tasks)\n",
    "num_points = int(N_it/ep_rec) # Number of data points per task\n",
    "\n",
    "test_acc_avg = np.zeros((N_task-1)*num_points)\n",
    "test_acc_avg_L2 = np.zeros((N_task-1)*num_points)\n",
    "test_acc_avg_EWC = np.zeros((N_task-1)*num_points)\n",
    "\n",
    "for i in range(1,N_task):\n",
    "    for j in range(i): # Only range over trained tasks\n",
    "        test_acc_avg[(i-1)*num_points:i*num_points] += test_acc_lists[j][i*num_points:(i+1)*num_points]\n",
    "        test_acc_avg_L2[(i-1)*num_points:i*num_points] += test_acc_lists_L2[j][i*num_points:(i+1)*num_points]\n",
    "        test_acc_avg_EWC[(i-1)*num_points:i*num_points] += test_acc_lists_EWC[j][i*num_points:(i+1)*num_points]\n",
    "    test_acc_avg[(i-1)*num_points:i*num_points] /= i\n",
    "    test_acc_avg_L2[(i-1)*num_points:i*num_points] /= i\n",
    "    test_acc_avg_EWC[(i-1)*num_points:i*num_points] /= i\n",
    "        \n",
    "plt.plot(test_acc_avg, label='Vanilla')\n",
    "plt.plot(test_acc_avg_L2, label='L2')\n",
    "plt.plot(test_acc_avg_EWC, label='EWC')\n",
    "plt.legend()\n",
    "if save_plots:\n",
    "    plt.savefig('lr=0.01_N_task='+str(N_task)+'_lamb_L2='+str(lambda_L2)+'_lamb_EWC='+str(lambda_EWC)+'_seed='+str(num_seed)+'_avg.png')\n",
    "plt.show()"
   ]
  },
  {
   "cell_type": "markdown",
   "metadata": {},
   "source": [
    "# Jot notes"
   ]
  },
  {
   "cell_type": "code",
   "execution_count": 20,
   "metadata": {},
   "outputs": [
    {
     "ename": "IndexError",
     "evalue": "list index out of range",
     "output_type": "error",
     "traceback": [
      "\u001b[0;31m---------------------------------------------------------------------------\u001b[0m",
      "\u001b[0;31mIndexError\u001b[0m                                Traceback (most recent call last)",
      "\u001b[0;32m<ipython-input-20-792a80c2453a>\u001b[0m in \u001b[0;36m<module>\u001b[0;34m()\u001b[0m\n\u001b[0;32m----> 1\u001b[0;31m \u001b[0mprint\u001b[0m\u001b[0;34m(\u001b[0m\u001b[0mmodel_EWC\u001b[0m\u001b[0;34m.\u001b[0m\u001b[0mloss_EWC\u001b[0m\u001b[0;34m.\u001b[0m\u001b[0meval\u001b[0m\u001b[0;34m(\u001b[0m\u001b[0mfeed_dict\u001b[0m\u001b[0;34m=\u001b[0m\u001b[0;34m{\u001b[0m\u001b[0minputs\u001b[0m\u001b[0;34m:\u001b[0m \u001b[0mdatasets\u001b[0m\u001b[0;34m[\u001b[0m\u001b[0;36m4\u001b[0m\u001b[0;34m]\u001b[0m\u001b[0;34m.\u001b[0m\u001b[0mtrain\u001b[0m\u001b[0;34m.\u001b[0m\u001b[0mimages\u001b[0m\u001b[0;34m,\u001b[0m\u001b[0moutputs\u001b[0m\u001b[0;34m:\u001b[0m\u001b[0mdatasets\u001b[0m\u001b[0;34m[\u001b[0m\u001b[0;36m4\u001b[0m\u001b[0;34m]\u001b[0m\u001b[0;34m.\u001b[0m\u001b[0mtrain\u001b[0m\u001b[0;34m.\u001b[0m\u001b[0mlabels\u001b[0m\u001b[0;34m}\u001b[0m\u001b[0;34m)\u001b[0m\u001b[0;34m)\u001b[0m\u001b[0;34m\u001b[0m\u001b[0m\n\u001b[0m",
      "\u001b[0;31mIndexError\u001b[0m: list index out of range"
     ]
    }
   ],
   "source": [
    "print(model_EWC.loss_EWC.eval(feed_dict={inputs: datasets[4].train.images,outputs:datasets[4].train.labels}))"
   ]
  },
  {
   "cell_type": "code",
   "execution_count": null,
   "metadata": {},
   "outputs": [],
   "source": [
    "#model_EWC.load_parameters(sess)\n",
    "model_EWC.params[1].eval().sum()\n",
    "#model_EWC.loss_EWC = model_EWC.loss_vanilla"
   ]
  },
  {
   "cell_type": "code",
   "execution_count": null,
   "metadata": {},
   "outputs": [],
   "source": [
    "test_acc_list_EWC = train(sess,model_EWC,datasets[4],datasets,inputs,outputs,N_it,batch_size,1,lambda_EWC,ep_rec,ep_time)"
   ]
  },
  {
   "cell_type": "code",
   "execution_count": null,
   "metadata": {},
   "outputs": [],
   "source": [
    "i_data=0\n",
    "probs = tf.nn.softmax(model_EWC.outputs)\n",
    "a = tf.multinomial(tf.log(probs),1)[0][0]\n",
    "sess.run(probs,feed_dict={model_EWC.x:datasets[i].validation.images[i_data:i_data+1]})"
   ]
  },
  {
   "cell_type": "code",
   "execution_count": null,
   "metadata": {
    "collapsed": true
   },
   "outputs": [],
   "source": []
  }
 ],
 "metadata": {
  "anaconda-cloud": {},
  "kernelspec": {
   "display_name": "Python 3",
   "language": "python",
   "name": "python3"
  },
  "language_info": {
   "codemirror_mode": {
    "name": "ipython",
    "version": 3
   },
   "file_extension": ".py",
   "mimetype": "text/x-python",
   "name": "python",
   "nbconvert_exporter": "python",
   "pygments_lexer": "ipython3",
   "version": "3.6.1"
  }
 },
 "nbformat": 4,
 "nbformat_minor": 1
}
