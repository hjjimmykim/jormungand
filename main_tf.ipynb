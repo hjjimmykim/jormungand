{
 "cells": [
  {
   "cell_type": "markdown",
   "metadata": {},
   "source": [
    "# Import libraries"
   ]
  },
  {
   "cell_type": "code",
   "execution_count": null,
   "metadata": {
    "collapsed": false
   },
   "outputs": [],
   "source": [
    "# Reload modules\n",
    "%load_ext autoreload\n",
    "%autoreload 2\n",
    "# Inline plots\n",
    "%matplotlib inline\n",
    "\n",
    "# Standard\n",
    "import numpy as np\n",
    "import matplotlib.pyplot as plt\n",
    "import time as time\n",
    "from copy import deepcopy\n",
    "\n",
    "# tf\n",
    "import tensorflow as tf\n",
    "from tensorflow.examples.tutorials.mnist import input_data\n",
    "\n",
    "# Mine\n",
    "from utility import display_image, permutate # Utilities\n",
    "from model import Net   # Model definition\n",
    "from train import train # Training code"
   ]
  },
  {
   "cell_type": "markdown",
   "metadata": {},
   "source": [
    "# Set parameters"
   ]
  },
  {
   "cell_type": "code",
   "execution_count": null,
   "metadata": {
    "collapsed": false
   },
   "outputs": [],
   "source": [
    "# Set random seed\n",
    "num_seed = 1\n",
    "tf.set_random_seed(num_seed)\n",
    "\n",
    "# Training\n",
    "N_task = 2       # Number of tasks\n",
    "N_it = 800       # Number of iterations\n",
    "batch_size = 100 # Number of samples in each minibatch\n",
    "\n",
    "# Network\n",
    "hidden_size = 50       # Number of hidden layer neurons\n",
    "\n",
    "# Regularization and Fisher\n",
    "lambda_L2 = 1000000        # Regularization parameter for L2\n",
    "lambda_EWC = 1000000         # Regularization parameter for EWC\n",
    "sample_size_Fish = 200 # Number of samples to use to estimate Fisher Info.\n",
    "\n",
    "# Miscellaneous\n",
    "ep_rec = 20            # Record test accuracy every ep_rec iterations\n",
    "ep_time = int(N_it/1) # Display time every ep_time iterations"
   ]
  },
  {
   "cell_type": "markdown",
   "metadata": {},
   "source": [
    "# Load data"
   ]
  },
  {
   "cell_type": "code",
   "execution_count": null,
   "metadata": {
    "collapsed": false,
    "scrolled": true
   },
   "outputs": [],
   "source": [
    "# Extract dataset\n",
    "dataset = input_data.read_data_sets('MNIST_data', one_hot=True)"
   ]
  },
  {
   "cell_type": "markdown",
   "metadata": {},
   "source": [
    "# Create permutated datasets"
   ]
  },
  {
   "cell_type": "code",
   "execution_count": null,
   "metadata": {
    "collapsed": false
   },
   "outputs": [],
   "source": [
    "datasets = [dataset] # List of datasets\n",
    "\n",
    "# Append permuted datasets\n",
    "for i in range(N_task-1):\n",
    "    datasets.append(permutate(dataset))"
   ]
  },
  {
   "cell_type": "markdown",
   "metadata": {},
   "source": [
    "# Plot sample images"
   ]
  },
  {
   "cell_type": "code",
   "execution_count": null,
   "metadata": {
    "collapsed": false
   },
   "outputs": [],
   "source": [
    "sample_index = 10      # Sample image to display\n",
    "# Display label\n",
    "label = datasets[0].train.labels[sample_index]\n",
    "label = np.nonzero(label)[0][0]\n",
    "print('label = ' + str(label))\n",
    "\n",
    "# Display images\n",
    "plt.figure()\n",
    "for i in range(N_task):\n",
    "    image = datasets[i].train.images[sample_index]\n",
    "\n",
    "    plt.subplot(1,N_task,1+i)\n",
    "    display_image(image)"
   ]
  },
  {
   "cell_type": "markdown",
   "metadata": {},
   "source": [
    "# Create models"
   ]
  },
  {
   "cell_type": "code",
   "execution_count": null,
   "metadata": {
    "collapsed": false
   },
   "outputs": [],
   "source": [
    "sess = tf.InteractiveSession() # Initialize session\n",
    "# input and output placeholders\n",
    "input_dim = datasets[0].train.images.shape[1]\n",
    "output_dim = datasets[0].train.labels.shape[1]\n",
    "inputs = tf.placeholder(tf.float32, shape=[None,input_dim])\n",
    "outputs = tf.placeholder(tf.float32, shape=[None,output_dim])\n",
    "\n",
    "# Instantiate models\n",
    "tf.set_random_seed(num_seed)\n",
    "model = Net(inputs,outputs,hidden_dim=50)\n",
    "tf.set_random_seed(num_seed)\n",
    "model_L2 = Net(inputs,outputs,hidden_dim=50)\n",
    "tf.set_random_seed(num_seed)\n",
    "model_EWC = Net(inputs,outputs,hidden_dim=50)\n",
    "\n",
    "# Initialize variables\n",
    "sess.run(tf.global_variables_initializer())"
   ]
  },
  {
   "cell_type": "markdown",
   "metadata": {},
   "source": [
    "# Train"
   ]
  },
  {
   "cell_type": "code",
   "execution_count": null,
   "metadata": {
    "collapsed": false
   },
   "outputs": [],
   "source": [
    "# Initialize test accuracy lists\n",
    "test_acc_lists = []\n",
    "test_acc_lists_L2 = []\n",
    "test_acc_lists_EWC = []\n",
    "for i in range(N_task):\n",
    "    test_acc_lists.append(np.zeros([0]))\n",
    "    test_acc_lists_L2.append(np.zeros([0]))\n",
    "    test_acc_lists_EWC.append(np.zeros([0]))\n",
    "\n",
    "time_start = time.time()\n",
    "time_p1 = time.time()\n",
    "print('------------------------------------------------------------')\n",
    "for i in range(N_task):\n",
    "\n",
    "    print('Task ' + str(i))\n",
    "    print('------------------------------------------------------------')\n",
    "    # Vanilla\n",
    "    test_acc_list = train(sess,model,datasets[i],datasets,inputs,outputs,N_it,batch_size,0,0,ep_rec,ep_time)\n",
    "    # L2\n",
    "    test_acc_list_L2 = train(sess,model_L2,datasets[i],datasets,inputs,outputs,N_it,batch_size,1,lambda_L2,ep_rec,ep_time)\n",
    "    # EWC\n",
    "    test_acc_list_EWC = train(sess,model_EWC,datasets[i],datasets,inputs,outputs,N_it,batch_size,2,lambda_EWC,ep_rec,ep_time)\n",
    "    \n",
    "    # Save parameters\n",
    "    model_L2.save_parameters()\n",
    "    model_EWC.save_parameters()\n",
    "    \n",
    "    time_F1 = time.time()\n",
    "    # Compute Fisher Info.\n",
    "    model_EWC.compute_Fisher(datasets[i].validation.images,sess,sample_size_Fish)\n",
    "    time_F2 = time.time()\n",
    "    print('Fisher computation runtime: ' + str(time_F2-time_F1) + ' s')\n",
    "    \n",
    "    # Record test accuracies\n",
    "    for j in range(N_task):\n",
    "        test_acc_lists[j] = np.hstack([test_acc_lists[j],test_acc_list[j]])\n",
    "        test_acc_lists_L2[j] = np.hstack([test_acc_lists_L2[j],test_acc_list_L2[j]])\n",
    "        test_acc_lists_EWC[j] = np.hstack([test_acc_lists_EWC[j],test_acc_list_EWC[j]])\n",
    "    \n",
    "    time_p2 = time.time()\n",
    "    print('Total runtime for task ' + str(i) + ': ' + str(time_p2-time_p1) + ' s')\n",
    "    time_p1 = time_p2\n",
    "    \n",
    "    print('------------------------------------------------------------')\n",
    "time_finish = time.time()  \n",
    "print('Total runtime: ' + str(time_finish-time_start) + ' s')\n"
   ]
  },
  {
   "cell_type": "markdown",
   "metadata": {},
   "source": [
    "# Plot"
   ]
  },
  {
   "cell_type": "code",
   "execution_count": null,
   "metadata": {
    "collapsed": false
   },
   "outputs": [],
   "source": [
    "plt.figure()\n",
    "\n",
    "plt.subplot(1,3,1)\n",
    "plt.title('Vanilla')\n",
    "plt.subplot(1,3,2)\n",
    "plt.title('L2')\n",
    "plt.subplot(1,3,3)\n",
    "plt.title('EWC')\n",
    "for i in range(N_task):\n",
    "    plt.subplot(1,3,1)\n",
    "    plt.plot(test_acc_lists[i],label='Task ' + str(i))\n",
    "    plt.subplot(1,3,2)\n",
    "    plt.plot(test_acc_lists_L2[i],label='Task ' + str(i))\n",
    "    plt.subplot(1,3,3)\n",
    "    plt.plot(test_acc_lists_EWC[i],label='Task ' + str(i))\n",
    "\n",
    "plt.show()"
   ]
  },
  {
   "cell_type": "code",
   "execution_count": null,
   "metadata": {
    "collapsed": false
   },
   "outputs": [],
   "source": [
    "#a=tf.constant(0.1,shape=[50])\n",
    "#x = tf.placeholder(tf.float32,shape=[None,10])\n",
    "#a=tf.random_uniform([5,3])\n",
    "#a.eval()"
   ]
  },
  {
   "cell_type": "code",
   "execution_count": null,
   "metadata": {
    "collapsed": true
   },
   "outputs": [],
   "source": []
  }
 ],
 "metadata": {
  "anaconda-cloud": {},
  "kernelspec": {
   "display_name": "Python [default]",
   "language": "python",
   "name": "python3"
  },
  "language_info": {
   "codemirror_mode": {
    "name": "ipython",
    "version": 3
   },
   "file_extension": ".py",
   "mimetype": "text/x-python",
   "name": "python",
   "nbconvert_exporter": "python",
   "pygments_lexer": "ipython3",
   "version": "3.5.2"
  }
 },
 "nbformat": 4,
 "nbformat_minor": 1
}
