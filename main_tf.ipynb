{
 "cells": [
  {
   "cell_type": "markdown",
   "metadata": {},
   "source": [
    "# Import libraries"
   ]
  },
  {
   "cell_type": "code",
   "execution_count": 1,
   "metadata": {
    "collapsed": true
   },
   "outputs": [],
   "source": [
    "# Reload modules\n",
    "%load_ext autoreload\n",
    "%autoreload 2\n",
    "# Inline plots\n",
    "%matplotlib inline\n",
    "\n",
    "# Standard\n",
    "import numpy as np\n",
    "import matplotlib.pyplot as plt\n",
    "import time as time\n",
    "from copy import deepcopy\n",
    "\n",
    "# tf\n",
    "import tensorflow as tf\n",
    "from tensorflow.examples.tutorials.mnist import input_data\n",
    "\n",
    "# Mine\n",
    "from utility import display_image, permutate # Utilities\n",
    "from model import Net   # Model definition\n",
    "from train import train # Training code"
   ]
  },
  {
   "cell_type": "markdown",
   "metadata": {},
   "source": [
    "# Set parameters"
   ]
  },
  {
   "cell_type": "code",
   "execution_count": 13,
   "metadata": {
    "collapsed": true
   },
   "outputs": [],
   "source": [
    "# Set random seed\n",
    "num_seed = 1\n",
    "tf.set_random_seed(num_seed)\n",
    "\n",
    "# Training\n",
    "N_task = 20       # Number of tasks\n",
    "N_it = 6000       # Number of iterations\n",
    "batch_size = 100 # Number of samples in each minibatch\n",
    "alpha = 0.01     # Learning rate\n",
    "optim_type = 0   # 0 = GradientDescentOptimizer, 1 = AdamOptimizer\n",
    "\n",
    "# Network\n",
    "hidden_size = 50       # Number of hidden layer neurons\n",
    "\n",
    "# Regularization and Fisher\n",
    "lambda_L2 = 0.05        # Regularization parameter for L2\n",
    "lambda_EWC = 15         # Regularization parameter for EWC\n",
    "sample_size_Fish = 200 # Number of samples to use to estimate Fisher Info.\n",
    "\n",
    "# Miscellaneous\n",
    "ep_rec = 20            # Record test accuracy every ep_rec iterations\n",
    "ep_time = int(N_it/1) # Display time every ep_time iterations\n",
    "save_plots = True"
   ]
  },
  {
   "cell_type": "markdown",
   "metadata": {},
   "source": [
    "# Load data"
   ]
  },
  {
   "cell_type": "code",
   "execution_count": 3,
   "metadata": {
    "scrolled": true
   },
   "outputs": [
    {
     "name": "stdout",
     "output_type": "stream",
     "text": [
      "Extracting MNIST_data/train-images-idx3-ubyte.gz\n",
      "Extracting MNIST_data/train-labels-idx1-ubyte.gz\n",
      "Extracting MNIST_data/t10k-images-idx3-ubyte.gz\n",
      "Extracting MNIST_data/t10k-labels-idx1-ubyte.gz\n"
     ]
    }
   ],
   "source": [
    "# Extract dataset\n",
    "dataset = input_data.read_data_sets('MNIST_data', one_hot=True)"
   ]
  },
  {
   "cell_type": "markdown",
   "metadata": {},
   "source": [
    "# Create permutated datasets"
   ]
  },
  {
   "cell_type": "code",
   "execution_count": 4,
   "metadata": {},
   "outputs": [],
   "source": [
    "datasets = [dataset] # List of datasets\n",
    "\n",
    "# Append permuted datasets\n",
    "for i in range(N_task-1):\n",
    "    datasets.append(permutate(dataset))"
   ]
  },
  {
   "cell_type": "markdown",
   "metadata": {},
   "source": [
    "# Plot sample images"
   ]
  },
  {
   "cell_type": "code",
   "execution_count": 5,
   "metadata": {},
   "outputs": [
    {
     "name": "stdout",
     "output_type": "stream",
     "text": [
      "label = 0\n"
     ]
    },
    {
     "data": {
      "image/png": "[encoded data removed]",
      "text/plain": [
       "<matplotlib.figure.Figure at 0x7f80ee0f8e10>"
      ]
     },
     "metadata": {},
     "output_type": "display_data"
    }
   ],
   "source": [
    "sample_index = 10      # Sample image to display\n",
    "# Display label\n",
    "label = datasets[0].train.labels[sample_index]\n",
    "label = np.nonzero(label)[0][0]\n",
    "print('label = ' + str(label))\n",
    "\n",
    "# Display images\n",
    "plt.figure()\n",
    "for i in range(N_task):\n",
    "    image = datasets[i].train.images[sample_index]\n",
    "\n",
    "    plt.subplot(1,N_task,1+i)\n",
    "    display_image(image)"
   ]
  },
  {
   "cell_type": "markdown",
   "metadata": {},
   "source": [
    "# Create models"
   ]
  },
  {
   "cell_type": "code",
   "execution_count": 6,
   "metadata": {
    "collapsed": true
   },
   "outputs": [],
   "source": [
    "sess = tf.InteractiveSession() # Initialize session\n",
    "# input and output placeholders\n",
    "input_dim = datasets[0].train.images.shape[1]\n",
    "output_dim = datasets[0].train.labels.shape[1]\n",
    "inputs = tf.placeholder(tf.float32, shape=[None,input_dim])\n",
    "labels = tf.placeholder(tf.float32, shape=[None,output_dim])\n",
    "\n",
    "# Instantiate models\n",
    "tf.set_random_seed(num_seed)\n",
    "model = Net(inputs,labels,hidden_dim=50)\n",
    "tf.set_random_seed(num_seed)\n",
    "model_L2 = Net(inputs,labels,hidden_dim=50)\n",
    "tf.set_random_seed(num_seed)\n",
    "model_EWC = Net(inputs,labels,hidden_dim=50)\n",
    "\n",
    "# Model set\n",
    "model.set_vanilla(alpha,optim_type)\n",
    "model_L2.set_L2(alpha,optim_type)\n",
    "model_EWC.set_EWC(alpha,optim_type)\n",
    "model_EWC.set_Fisher()\n",
    "\n",
    "# Initialize variables\n",
    "sess.run(tf.global_variables_initializer())"
   ]
  },
  {
   "cell_type": "markdown",
   "metadata": {},
   "source": [
    "# Train"
   ]
  },
  {
   "cell_type": "code",
   "execution_count": 7,
   "metadata": {
    "scrolled": true
   },
   "outputs": [
    {
     "name": "stdout",
     "output_type": "stream",
     "text": [
      "------------------------------------------------------------\n",
      "Task 0\n",
      "------------------------------------------------------------\n",
      "Vanilla training runtime: 46.91476130485535 s\n",
      "L2 training runtime: 46.77066373825073 s\n",
      "EWC training runtime: 46.72598648071289 s\n",
      "Fisher computation runtime: 0.1949467658996582 s\n",
      "Total runtime for task 0: 140.81193041801453 s\n",
      "------------------------------------------------------------\n",
      "Task 1\n",
      "------------------------------------------------------------\n",
      "Vanilla training runtime: 46.94773769378662 s\n",
      "L2 training runtime: 47.84285640716553 s\n",
      "EWC training runtime: 48.1182701587677 s\n",
      "Fisher computation runtime: 0.19039273262023926 s\n",
      "Total runtime for task 1: 143.45437622070312 s\n",
      "------------------------------------------------------------\n",
      "Task 2\n",
      "------------------------------------------------------------\n",
      "Vanilla training runtime: 47.26441025733948 s\n",
      "L2 training runtime: 49.315940380096436 s\n",
      "EWC training runtime: 49.864405155181885 s\n",
      "Fisher computation runtime: 0.20544028282165527 s\n",
      "Total runtime for task 2: 147.13486981391907 s\n",
      "------------------------------------------------------------\n",
      "Task 3\n",
      "------------------------------------------------------------\n",
      "Vanilla training runtime: 47.27081108093262 s\n",
      "L2 training runtime: 51.087823152542114 s\n",
      "EWC training runtime: 51.838645219802856 s\n",
      "Fisher computation runtime: 0.19269204139709473 s\n",
      "Total runtime for task 3: 150.93746709823608 s\n",
      "------------------------------------------------------------\n",
      "Task 4\n",
      "------------------------------------------------------------\n",
      "Vanilla training runtime: 47.180638551712036 s\n",
      "L2 training runtime: 52.324203968048096 s\n",
      "EWC training runtime: 53.87309217453003 s\n",
      "Fisher computation runtime: 0.18757390975952148 s\n",
      "Total runtime for task 4: 154.28759217262268 s\n",
      "------------------------------------------------------------\n",
      "Task 5\n",
      "------------------------------------------------------------\n",
      "Vanilla training runtime: 47.15426826477051 s\n",
      "L2 training runtime: 53.77254509925842 s\n",
      "EWC training runtime: 56.26540422439575 s\n",
      "Fisher computation runtime: 0.19357728958129883 s\n",
      "Total runtime for task 5: 158.2449927330017 s\n",
      "------------------------------------------------------------\n",
      "Task 6\n",
      "------------------------------------------------------------\n",
      "Vanilla training runtime: 47.223987102508545 s\n",
      "L2 training runtime: 55.59727215766907 s\n",
      "EWC training runtime: 58.95328712463379 s\n",
      "Fisher computation runtime: 0.19502997398376465 s\n",
      "Total runtime for task 6: 162.96349143981934 s\n",
      "------------------------------------------------------------\n",
      "Task 7\n",
      "------------------------------------------------------------\n",
      "Vanilla training runtime: 47.2377507686615 s\n",
      "L2 training runtime: 56.79495406150818 s\n",
      "EWC training runtime: 61.85363817214966 s\n",
      "Fisher computation runtime: 0.18749690055847168 s\n",
      "Total runtime for task 7: 167.20554494857788 s\n",
      "------------------------------------------------------------\n",
      "Task 8\n",
      "------------------------------------------------------------\n",
      "Vanilla training runtime: 47.173895835876465 s\n",
      "L2 training runtime: 58.493223428726196 s\n",
      "EWC training runtime: 61.038167238235474 s\n",
      "Fisher computation runtime: 0.191359281539917 s\n",
      "Total runtime for task 8: 168.17167139053345 s\n",
      "------------------------------------------------------------\n",
      "Task 9\n",
      "------------------------------------------------------------\n",
      "Vanilla training runtime: 47.25544786453247 s\n",
      "L2 training runtime: 60.52053380012512 s\n",
      "EWC training runtime: 66.24077224731445 s\n",
      "Fisher computation runtime: 0.20745539665222168 s\n",
      "Total runtime for task 9: 175.50876140594482 s\n",
      "------------------------------------------------------------\n",
      "Total runtime: 1568.7208244800568 s\n"
     ]
    }
   ],
   "source": [
    "# Initialize test accuracy lists\n",
    "test_acc_lists = []\n",
    "test_acc_lists_L2 = []\n",
    "test_acc_lists_EWC = []\n",
    "for i in range(N_task):\n",
    "    test_acc_lists.append(np.zeros([0]))\n",
    "    test_acc_lists_L2.append(np.zeros([0]))\n",
    "    test_acc_lists_EWC.append(np.zeros([0]))\n",
    "\n",
    "time_start = time.time()\n",
    "time_p1 = time.time()\n",
    "break_signal = False\n",
    "print('------------------------------------------------------------')\n",
    "for i in range(N_task):\n",
    "\n",
    "    print('Task ' + str(i))\n",
    "    print('------------------------------------------------------------')\n",
    "        \n",
    "    # Vanilla\n",
    "    #model.set_vanilla(alpha)\n",
    "    test_acc_list,_ = train(sess,model,datasets[i],datasets,inputs,labels,N_it,batch_size,ep_rec,ep_time,'Vanilla')\n",
    "    # L2\n",
    "    #model_L2.set_L2(alpha,lambda_L2)\n",
    "    test_acc_list_L2,_ = train(sess,model_L2,datasets[i],datasets,inputs,labels,N_it,batch_size,ep_rec,ep_time,'L2')\n",
    "    # EWC\n",
    "    #model_EWC.set_EWC(alpha,lambda_EWC)\n",
    "    '''\n",
    "    a = 0\n",
    "    for j in range(len(model_EWC.params)):\n",
    "        a += model_EWC.params[j].eval().sum()\n",
    "    print('params_before', a)\n",
    "    \n",
    "    print('loss_before', model_EWC.loss_EWC.eval(feed_dict={inputs: datasets[i].train.images,labels:datasets[i].train.labels}))\n",
    "    '''\n",
    "    test_acc_list_EWC,bat = train(sess,model_EWC,datasets[i],datasets,inputs,labels,N_it,batch_size,ep_rec,ep_time,'EWC',i)\n",
    "    '''\n",
    "    print('loss_after', model_EWC.loss_EWC.eval(feed_dict={inputs: datasets[i].train.images,labels:datasets[i].train.labels}))\n",
    "    \n",
    "    a = 0\n",
    "    for j in range(len(model_EWC.params)):\n",
    "        a += model_EWC.params[j].eval().sum()\n",
    "    print('params_after', a)\n",
    "\n",
    "    if a!=a:\n",
    "        print('nan parameters')\n",
    "        print('Error-----------------------------------------------------')\n",
    "        break;\n",
    "    '''\n",
    "    \n",
    "    time_F1 = time.time()\n",
    "    # Compute Fisher Info.\n",
    "    model_EWC.compute_Fisher(datasets[i].validation.images,sess,sample_size_Fish)\n",
    "    time_F2 = time.time()\n",
    "    print('Fisher computation runtime: ' + str(time_F2-time_F1) + ' s')\n",
    "    \n",
    "    # Save parameters\n",
    "    model_L2.save_parameters()\n",
    "    model_EWC.save_parameters()\n",
    "    \n",
    "    # Update loss functions\n",
    "    model_L2.update_L2(lambda_L2)\n",
    "    model_EWC.update_EWC(lambda_EWC)\n",
    "    \n",
    "    for F in model_EWC.Fisher:\n",
    "        blah2 = F.sum()\n",
    "        if blah2 != blah2:\n",
    "            break_signal = True\n",
    "            \n",
    "    '''\n",
    "    if break_signal:\n",
    "        print('nan Fisher')\n",
    "        print('Error-----------------------------------------------------')\n",
    "        break;\n",
    "    '''\n",
    "    \n",
    "    \n",
    "    # Record test accuracies\n",
    "    for j in range(N_task):\n",
    "        test_acc_lists[j] = np.hstack([test_acc_lists[j],test_acc_list[j]])\n",
    "        test_acc_lists_L2[j] = np.hstack([test_acc_lists_L2[j],test_acc_list_L2[j]])\n",
    "        test_acc_lists_EWC[j] = np.hstack([test_acc_lists_EWC[j],test_acc_list_EWC[j]])\n",
    "    \n",
    "    time_p2 = time.time()\n",
    "    print('Total runtime for task ' + str(i) + ': ' + str(time_p2-time_p1) + ' s')\n",
    "    time_p1 = time_p2\n",
    "    \n",
    "    print('------------------------------------------------------------')\n",
    "time_finish = time.time()  \n",
    "print('Total runtime: ' + str(time_finish-time_start) + ' s')\n"
   ]
  },
  {
   "cell_type": "code",
   "execution_count": 8,
   "metadata": {},
   "outputs": [
    {
     "data": {
      "text/plain": [
       "1.9172664"
      ]
     },
     "execution_count": 8,
     "metadata": {},
     "output_type": "execute_result"
    }
   ],
   "source": [
    "model_EWC.loss_EWC.eval(feed_dict={inputs: datasets[i].train.images,labels:datasets[i].train.labels})"
   ]
  },
  {
   "cell_type": "code",
   "execution_count": 9,
   "metadata": {},
   "outputs": [
    {
     "name": "stdout",
     "output_type": "stream",
     "text": [
      "0.00234302096307\n",
      "0.0225129557622\n",
      "0.110612953289\n",
      "0.0422037049356\n"
     ]
    }
   ],
   "source": [
    "for i in range(len(model_EWC.params_prev)):\n",
    "    print(np.mean(model_EWC.Fisher[i]))"
   ]
  },
  {
   "cell_type": "markdown",
   "metadata": {},
   "source": [
    "# Plot"
   ]
  },
  {
   "cell_type": "code",
   "execution_count": 14,
   "metadata": {},
   "outputs": [
    {
     "data": {
      "image/png": "[encoded data removed]",
      "text/plain": [
       "<matplotlib.figure.Figure at 0x7f80cbe04898>"
      ]
     },
     "metadata": {},
     "output_type": "display_data"
    }
   ],
   "source": [
    "plt.figure()\n",
    "\n",
    "plt.subplot(1,3,1)\n",
    "plt.title('Vanilla')\n",
    "plt.subplot(1,3,2)\n",
    "plt.title('L2')\n",
    "plt.subplot(1,3,3)\n",
    "plt.title('EWC')\n",
    "for i in range(N_task):\n",
    "    plt.subplot(1,3,1)\n",
    "    plt.plot(test_acc_lists[i],label='Task ' + str(i))\n",
    "    plt.subplot(1,3,2)\n",
    "    plt.plot(test_acc_lists_L2[i],label='Task ' + str(i))\n",
    "    plt.subplot(1,3,3)\n",
    "    plt.plot(test_acc_lists_EWC[i],label='Task ' + str(i))\n",
    "if save_plots:\n",
    "    title = 'N_task='+str(N_task)+'_N_it='+str(N_it)+'_lr='+str(alpha)+'_lamb_L2='+str(lambda_L2)+'_lamb_EWC='+str(lambda_EWC)+'_seed='+str(num_seed)+'.png'\n",
    "    if optim_type:\n",
    "        title = 'Adam_' + title\n",
    "    plt.savefig(title)\n",
    "plt.show()"
   ]
  },
  {
   "cell_type": "code",
   "execution_count": 16,
   "metadata": {
    "scrolled": true
   },
   "outputs": [
    {
     "data": {
      "image/png": "[encoded data removed]",
      "text/plain": [
       "<matplotlib.figure.Figure at 0x7f80cbd02da0>"
      ]
     },
     "metadata": {},
     "output_type": "display_data"
    }
   ],
   "source": [
    "# Task-averaged accuracy (only on trained tasks)\n",
    "num_points = int(N_it/ep_rec) # Number of data points per task\n",
    "\n",
    "test_acc_avg = np.zeros((N_task-1)*num_points)\n",
    "test_acc_avg_L2 = np.zeros((N_task-1)*num_points)\n",
    "test_acc_avg_EWC = np.zeros((N_task-1)*num_points)\n",
    "\n",
    "for i in range(1,N_task):\n",
    "    for j in range(i): # Only range over trained tasks\n",
    "        test_acc_avg[(i-1)*num_points:i*num_points] += test_acc_lists[j][i*num_points:(i+1)*num_points]\n",
    "        test_acc_avg_L2[(i-1)*num_points:i*num_points] += test_acc_lists_L2[j][i*num_points:(i+1)*num_points]\n",
    "        test_acc_avg_EWC[(i-1)*num_points:i*num_points] += test_acc_lists_EWC[j][i*num_points:(i+1)*num_points]\n",
    "    test_acc_avg[(i-1)*num_points:i*num_points] /= i\n",
    "    test_acc_avg_L2[(i-1)*num_points:i*num_points] /= i\n",
    "    test_acc_avg_EWC[(i-1)*num_points:i*num_points] /= i\n",
    "        \n",
    "plt.plot(test_acc_avg, label='Vanilla')\n",
    "plt.plot(test_acc_avg_L2, label='L2')\n",
    "plt.plot(test_acc_avg_EWC, label='EWC')\n",
    "plt.legend()\n",
    "if save_plots:\n",
    "    title = 'N_task='+str(N_task)+'_N_it='+str(N_it)+'_lr='+str(alpha)+'_lamb_L2='+str(lambda_L2)+'_lamb_EWC='+str(lambda_EWC)+'_seed='+str(num_seed)+'.png'\n",
    "    if optim_type:\n",
    "        title = 'Adam_' + title\n",
    "    plt.savefig('title')\n",
    "plt.show()"
   ]
  },
  {
   "cell_type": "markdown",
   "metadata": {},
   "source": [
    "# Jot notes"
   ]
  },
  {
   "cell_type": "code",
   "execution_count": 12,
   "metadata": {},
   "outputs": [
    {
     "ename": "NameError",
     "evalue": "name 'outputs' is not defined",
     "output_type": "error",
     "traceback": [
      "\u001b[0;31m---------------------------------------------------------------------------\u001b[0m",
      "\u001b[0;31mNameError\u001b[0m                                 Traceback (most recent call last)",
      "\u001b[0;32m<ipython-input-12-8930d3b94e0c>\u001b[0m in \u001b[0;36m<module>\u001b[0;34m()\u001b[0m\n\u001b[0;32m----> 1\u001b[0;31m \u001b[0mprint\u001b[0m\u001b[0;34m(\u001b[0m\u001b[0mmodel_EWC\u001b[0m\u001b[0;34m.\u001b[0m\u001b[0mloss_EWC\u001b[0m\u001b[0;34m.\u001b[0m\u001b[0meval\u001b[0m\u001b[0;34m(\u001b[0m\u001b[0mfeed_dict\u001b[0m\u001b[0;34m=\u001b[0m\u001b[0;34m{\u001b[0m\u001b[0minputs\u001b[0m\u001b[0;34m:\u001b[0m \u001b[0mdatasets\u001b[0m\u001b[0;34m[\u001b[0m\u001b[0;36m2\u001b[0m\u001b[0;34m]\u001b[0m\u001b[0;34m.\u001b[0m\u001b[0mtrain\u001b[0m\u001b[0;34m.\u001b[0m\u001b[0mimages\u001b[0m\u001b[0;34m,\u001b[0m\u001b[0moutputs\u001b[0m\u001b[0;34m:\u001b[0m\u001b[0mdatasets\u001b[0m\u001b[0;34m[\u001b[0m\u001b[0;36m2\u001b[0m\u001b[0;34m]\u001b[0m\u001b[0;34m.\u001b[0m\u001b[0mtrain\u001b[0m\u001b[0;34m.\u001b[0m\u001b[0mlabels\u001b[0m\u001b[0;34m}\u001b[0m\u001b[0;34m)\u001b[0m\u001b[0;34m)\u001b[0m\u001b[0;34m\u001b[0m\u001b[0m\n\u001b[0m",
      "\u001b[0;31mNameError\u001b[0m: name 'outputs' is not defined"
     ]
    }
   ],
   "source": [
    "print(model_EWC.loss_EWC.eval(feed_dict={inputs: datasets[2].train.images,outputs:datasets[2].train.labels}))"
   ]
  },
  {
   "cell_type": "code",
   "execution_count": null,
   "metadata": {
    "collapsed": true
   },
   "outputs": [],
   "source": [
    "model_EWC.load_parameters(sess)\n",
    "model_EWC.params[1].eval().sum()\n",
    "#model_EWC.loss_EWC = model_EWC.loss_vanilla"
   ]
  },
  {
   "cell_type": "code",
   "execution_count": null,
   "metadata": {
    "collapsed": true
   },
   "outputs": [],
   "source": [
    "#test_acc_list_EWC = train(sess,model_EWC,datasets[4],datasets,inputs,outputs,N_it,batch_size,1,lambda_EWC,ep_rec,ep_time)"
   ]
  },
  {
   "cell_type": "code",
   "execution_count": null,
   "metadata": {
    "collapsed": true
   },
   "outputs": [],
   "source": [
    "i_data=0\n",
    "probs = tf.nn.softmax(model_EWC.outputs)\n",
    "a = tf.multinomial(tf.log(probs),1)[0][0]\n",
    "sess.run(probs,feed_dict={model_EWC.x:datasets[i].validation.images[i_data:i_d\n",
    "                                                                    ata+1]})"
   ]
  },
  {
   "cell_type": "code",
   "execution_count": null,
   "metadata": {
    "collapsed": true
   },
   "outputs": [],
   "source": [
    "print(model_EWC.loss_EWC.eval(feed_dict={inputs: datasets[6].train.images,outputs:datasets[6].train.labels}))"
   ]
  },
  {
   "cell_type": "code",
   "execution_count": null,
   "metadata": {
    "collapsed": true
   },
   "outputs": [],
   "source": [
    "a = 0\n",
    "for i in range(4):\n",
    "    print(np.sum(model_EWC.params_prev[i]**2))"
   ]
  },
  {
   "cell_type": "code",
   "execution_count": null,
   "metadata": {
    "collapsed": true
   },
   "outputs": [],
   "source": [
    "a = []\n",
    "for i in range(model_EWC.params_prev[0].shape[0]):\n",
    "    a.append(model_EWC.params_prev[0][i].sum())\n",
    "#model_EWC.params_prev[2][30\n",
    "sum(a)"
   ]
  },
  {
   "cell_type": "code",
   "execution_count": null,
   "metadata": {
    "collapsed": true
   },
   "outputs": [],
   "source": [
    "a = 0\n",
    "for i in range(len(model_EWC.params)):\n",
    "    a+=model_EWC.params[i].eval().sum()"
   ]
  },
  {
   "cell_type": "code",
   "execution_count": null,
   "metadata": {
    "collapsed": true
   },
   "outputs": [],
   "source": []
  },
  {
   "cell_type": "code",
   "execution_count": null,
   "metadata": {
    "collapsed": true
   },
   "outputs": [],
   "source": [
    "max(a)"
   ]
  },
  {
   "cell_type": "code",
   "execution_count": null,
   "metadata": {
    "collapsed": true
   },
   "outputs": [],
   "source": []
  },
  {
   "cell_type": "code",
   "execution_count": null,
   "metadata": {
    "collapsed": true
   },
   "outputs": [],
   "source": []
  },
  {
   "cell_type": "code",
   "execution_count": null,
   "metadata": {
    "collapsed": true
   },
   "outputs": [],
   "source": []
  },
  {
   "cell_type": "code",
   "execution_count": null,
   "metadata": {
    "collapsed": true
   },
   "outputs": [],
   "source": []
  },
  {
   "cell_type": "code",
   "execution_count": null,
   "metadata": {
    "collapsed": true
   },
   "outputs": [],
   "source": []
  }
 ],
 "metadata": {
  "anaconda-cloud": {},
  "kernelspec": {
   "display_name": "Python 3",
   "language": "python",
   "name": "python3"
  },
  "language_info": {
   "codemirror_mode": {
    "name": "ipython",
    "version": 3
   },
   "file_extension": ".py",
   "mimetype": "text/x-python",
   "name": "python",
   "nbconvert_exporter": "python",
   "pygments_lexer": "ipython3",
   "version": "3.6.1"
  }
 },
 "nbformat": 4,
 "nbformat_minor": 1
}
